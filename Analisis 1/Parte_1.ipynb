{
  "cells": [
    {
      "cell_type": "markdown",
      "metadata": {
        "id": "QZWZO686moZ4"
      },
      "source": [
        "Script Práctica 2 Parte 1 (MLP clasificación)\n",
        "\n",
        "Redes de Neuronas Artificiales, curso 2022-2023\n",
        "\n",
        "Universidad Carlos III de Madrid\n",
        "\n",
        "# Importar TensorFlow, ciertos módulos de Keras y las librerías numpy y pandas."
      ]
    },
    {
      "cell_type": "code",
      "execution_count": 312,
      "metadata": {
        "id": "SLyQB4VsVp4L"
      },
      "outputs": [],
      "source": [
        "import tensorflow as tf\n",
        "import numpy as np\n",
        "import pandas as pd\n",
        "from keras.models import Sequential\n",
        "from keras.layers import Dense\n",
        "from keras.layers import Dropout\n",
        "from tensorflow.keras.utils import to_categorical\n",
        "from sklearn.metrics import confusion_matrix, classification_report\n",
        "\n",
        "\n",
        "#from tensorflow.keras import datasets, layers, models\n",
        "#import matplotlib.pyplot as plt"
      ]
    },
    {
      "cell_type": "markdown",
      "metadata": {
        "id": "NWNBwNCMqHK4"
      },
      "source": [
        "# Cargar los datos\n",
        "\n",
        "* Hay que ajustar el path a los csv de datos \n",
        "* Cambiar parámetros correspondientes si el delimitador no es una coma, o si el archivo contiene cabeceras\n",
        "* Pueden cargarse numpy arrays o dataframes, en este caso se van a utilizar arrays"
      ]
    },
    {
      "cell_type": "code",
      "execution_count": 313,
      "metadata": {
        "id": "YbdkI1YpqZtw"
      },
      "outputs": [
        {
          "name": "stdout",
          "output_type": "stream",
          "text": [
            "Entrada(X_Data_set):  (2126, 21)\n",
            "Salida(y_Data_set):  (2126, 1)\n"
          ]
        }
      ],
      "source": [
        "path = \"content/\"\n",
        "inputFilename = \"datos.csv\"\n",
        "Data_set = pd.read_csv(path+inputFilename, header='infer', delimiter=',')\n",
        "# SEPARACIÓN ENTRADA Y SALIDA\n",
        "y_Data_set = Data_set.iloc[:,-1:]\n",
        "X_Data_set = Data_set.iloc[: , :-1]\n",
        "# mediante prints es posible COMPROBAR DIMENSIONES DE LOS DATOS para comprobar que todo se haya cargado correctamente\n",
        "print('Entrada(X_Data_set): ', X_Data_set.shape)\n",
        "print('Salida(y_Data_set): ', y_Data_set.shape)"
      ]
    },
    {
      "cell_type": "markdown",
      "metadata": {
        "id": "Izlpy92WoMSI"
      },
      "source": [
        "# Preparación de datos"
      ]
    },
    {
      "cell_type": "code",
      "execution_count": 314,
      "metadata": {
        "id": "VpcMFF-Mn-Tq"
      },
      "outputs": [],
      "source": [
        "# Es posible usar funciones ya hechas\n",
        "from sklearn.preprocessing import MinMaxScaler\n",
        "from sklearn.model_selection import train_test_split"
      ]
    },
    {
      "cell_type": "code",
      "execution_count": 315,
      "metadata": {
        "id": "dl0ZyRxn3cao"
      },
      "outputs": [
        {
          "name": "stdout",
          "output_type": "stream",
          "text": [
            "(1424, 21)\n",
            "(1424, 1)\n",
            "(702, 21)\n",
            "(702, 1)\n",
            "<class 'pandas.core.frame.DataFrame'>\n",
            "<class 'pandas.core.frame.DataFrame'>\n",
            "<class 'pandas.core.frame.DataFrame'>\n",
            "<class 'pandas.core.frame.DataFrame'>\n"
          ]
        }
      ],
      "source": [
        "# SEPARACIÓN ENTRADA Y SALIDAA\n",
        "y_Data_set = Data_set.iloc[:,-1:]\n",
        "X_Data_set = Data_set.iloc[: , :-1]\n",
        "\n",
        "#NORMALIZAR ENTRADAS\n",
        "from sklearn.preprocessing import MinMaxScaler\n",
        "\n",
        "# transform data\n",
        "columnNames = X_Data_set.columns\n",
        "scaler = MinMaxScaler()\n",
        "X_Data_set_norma = scaler.fit_transform(X_Data_set)\n",
        "X_Data_set_norma = pd.DataFrame(X_Data_set_norma, columns=columnNames)\n",
        "\n",
        "\n",
        "\n",
        "#Dividir los datos en train y test de modo estratificado \n",
        "from sklearn.model_selection import train_test_split\n",
        "X_train, X_test, y_train, y_test = train_test_split(X_Data_set_norma, y_Data_set, stratify=y_Data_set, test_size=0.33)\n",
        "\n",
        "\n",
        "\n",
        "# prints for debug\n",
        "print(X_train.shape)\n",
        "print(y_train.shape)\n",
        "print(X_test.shape)\n",
        "print(y_test.shape)\n",
        "print(type(X_train))\n",
        "print(type(X_test))\n",
        "print(type(y_train))\n",
        "print(type(y_test))"
      ]
    },
    {
      "cell_type": "markdown",
      "metadata": {
        "id": "NYiUmaXMs5A4"
      },
      "source": [
        "Despues de generar el dataset es posible guardarlo, para cargarlo en un futuro"
      ]
    },
    {
      "cell_type": "code",
      "execution_count": 316,
      "metadata": {
        "id": "MYFbgl03pXDu"
      },
      "outputs": [],
      "source": [
        "# save to CSV file (using a copy not to modify the real data)\n",
        "# Train\n",
        "X_train_copy = X_train.copy()\n",
        "X_train_copy['class'] = y_train # add the class to the file\n",
        "pd.DataFrame(np.asarray(X_train_copy)).to_csv(path+\"train.csv\", header=Data_set.columns, index=False) # store it with the headers\n",
        "# Test\n",
        "X_test_copy = X_test.copy()\n",
        "X_test_copy['class'] = y_test\n",
        "pd.DataFrame(np.asarray(X_test_copy)).to_csv(path+\"test.csv\", header=Data_set.columns, index=False)"
      ]
    },
    {
      "cell_type": "code",
      "execution_count": 317,
      "metadata": {
        "id": "FlvazfEHtEf5"
      },
      "outputs": [],
      "source": [
        "# Load CSV file\n",
        "train_set = pd.read_csv(path+\"train.csv\", header='infer', delimiter=',')\n",
        "test_set  = pd.read_csv(path+\"test.csv\",  header='infer', delimiter=',')\n",
        "# Split in X and Y\n",
        "y_train   = train_set.iloc[:,-1:]\n",
        "X_train   = train_set.iloc[: , :-1]\n",
        "y_test    = test_set.iloc[:,-1:]\n",
        "X_test    = test_set.iloc[: , :-1]"
      ]
    },
    {
      "cell_type": "code",
      "execution_count": 318,
      "metadata": {
        "id": "U1nWYXj27c7E"
      },
      "outputs": [
        {
          "name": "stdout",
          "output_type": "stream",
          "text": [
            "(1424, 21)\n",
            "(1424, 1)\n",
            "(702, 21)\n",
            "(702, 1)\n",
            "<class 'pandas.core.frame.DataFrame'>\n",
            "<class 'pandas.core.frame.DataFrame'>\n",
            "<class 'pandas.core.frame.DataFrame'>\n",
            "<class 'pandas.core.frame.DataFrame'>\n",
            "            AC        FM        UC      ASTV      MSTV      ALTV      MLTV  \\\n",
            "0     0.307692  0.005319  0.086957  0.546667  0.235294  0.000000  0.063116   \n",
            "1     0.000000  0.000000  0.391304  0.706667  0.147059  0.000000  0.124260   \n",
            "2     0.000000  0.000000  0.000000  0.493333  0.088235  0.076923  0.272189   \n",
            "3     0.000000  0.000000  0.000000  0.386667  0.102941  0.252747  0.209073   \n",
            "4     0.153846  0.054965  0.260870  0.200000  0.323529  0.000000  0.266272   \n",
            "...        ...       ...       ...       ...       ...       ...       ...   \n",
            "1419  0.346154  0.005319  0.173913  0.573333  0.250000  0.000000  0.055227   \n",
            "1420  0.461538  0.000000  0.478261  0.160000  0.191176  0.000000  0.033531   \n",
            "1421  0.038462  0.576241  0.130435  0.173333  0.250000  0.000000  0.163708   \n",
            "1422  0.153846  0.000000  0.217391  0.480000  0.117647  0.000000  0.230769   \n",
            "1423  0.153846  0.000000  0.173913  0.626667  0.088235  0.000000  0.157791   \n",
            "\n",
            "          DL   DS    DP  ...     Width       Min       Max      Nmax  Nzeros  \\\n",
            "0     0.0000  0.0  0.00  ...  0.322034  0.541284  0.405172  0.388889     0.0   \n",
            "1     0.3125  0.0  0.25  ...  0.378531  0.238532  0.206897  0.166667     0.0   \n",
            "2     0.0000  0.0  0.00  ...  0.401130  0.119266  0.129310  0.111111     0.0   \n",
            "3     0.0000  0.0  0.00  ...  0.451977  0.082569  0.172414  0.222222     0.0   \n",
            "4     0.0000  0.0  0.00  ...  0.706215  0.036697  0.517241  0.333333     0.0   \n",
            "...      ...  ...   ...  ...       ...       ...       ...       ...     ...   \n",
            "1419  0.0625  0.0  0.00  ...  0.463277  0.311927  0.405172  0.333333     0.0   \n",
            "1420  0.0625  0.0  0.00  ...  0.361582  0.541284  0.465517  0.166667     0.0   \n",
            "1421  0.2500  0.0  0.25  ...  0.779661  0.064220  0.655172  0.888889     0.0   \n",
            "1422  0.0000  0.0  0.00  ...  0.542373  0.091743  0.318966  0.166667     0.0   \n",
            "1423  0.0000  0.0  0.00  ...  0.225989  0.688073  0.396552  0.111111     0.0   \n",
            "\n",
            "          Mode      Mean    Median  Variance  Tendency  \n",
            "0     0.708661  0.642202  0.642202  0.052045       0.5  \n",
            "1     0.440945  0.348624  0.339450  0.029740       0.5  \n",
            "2     0.543307  0.495413  0.477064  0.007435       1.0  \n",
            "3     0.527559  0.477064  0.458716  0.007435       1.0  \n",
            "4     0.464567  0.412844  0.385321  0.048327       0.5  \n",
            "...        ...       ...       ...       ...       ...  \n",
            "1419  0.708661  0.614679  0.623853  0.081784       1.0  \n",
            "1420  0.748031  0.688073  0.688073  0.070632       0.5  \n",
            "1421  0.543307  0.477064  0.495413  0.130112       0.5  \n",
            "1422  0.614173  0.587156  0.568807  0.022305       1.0  \n",
            "1423  0.692913  0.642202  0.623853  0.026022       0.5  \n",
            "\n",
            "[1424 rows x 21 columns]\n"
          ]
        }
      ],
      "source": [
        "# prints for debug\n",
        "print(X_train.shape)\n",
        "print(y_train.shape)\n",
        "print(X_test.shape)\n",
        "print(y_test.shape)\n",
        "print(type(X_train))\n",
        "print(type(X_test))\n",
        "print(type(y_train))\n",
        "print(type(y_test))\n",
        "\n",
        "print(X_train)"
      ]
    },
    {
      "cell_type": "markdown",
      "metadata": {
        "id": "2xF639TPy-wk"
      },
      "source": [
        "# Uso de semillas para hacer los procesos aleatorios reproducibles entre ejecuciones"
      ]
    },
    {
      "cell_type": "code",
      "execution_count": 319,
      "metadata": {
        "id": "DN_kfa8iah_i"
      },
      "outputs": [],
      "source": [
        "from numpy.random import seed\n",
        "from tensorflow.keras.utils import set_random_seed\n",
        "semilla=2022 # segun la semilla, el futuro aleatorio funcionara siempre igual\n",
        "seed(semilla)\n",
        "set_random_seed(semilla)"
      ]
    },
    {
      "cell_type": "markdown",
      "metadata": {
        "id": "M4tB78urpXuL"
      },
      "source": [
        "# Comienzo código"
      ]
    },
    {
      "cell_type": "code",
      "execution_count": 320,
      "metadata": {
        "id": "41-fokq6XQNn"
      },
      "outputs": [
        {
          "name": "stdout",
          "output_type": "stream",
          "text": [
            "Entrenamiento salida sin transformar\n",
            "    NSP\n",
            "0   1.0\n",
            "1   1.0\n",
            "2   1.0\n",
            "3   1.0\n",
            "4   1.0\n",
            "5   1.0\n",
            "6   1.0\n",
            "7   1.0\n",
            "8   1.0\n",
            "9   1.0\n",
            "10  1.0\n",
            "Entrenamiento salida transformada\n",
            "[[1 0 0]\n",
            " [1 0 0]\n",
            " [1 0 0]\n",
            " [1 0 0]\n",
            " [1 0 0]\n",
            " [1 0 0]\n",
            " [1 0 0]\n",
            " [1 0 0]\n",
            " [1 0 0]\n",
            " [1 0 0]\n",
            " [1 0 0]]\n",
            "Entrenamiento input\n",
            "(1424, 21)\n",
            "Entrenamiento output\n",
            "(1424, 1)\n",
            "Entrenamiento output transformado\n",
            "(1424, 3)\n",
            "Test input\n",
            "(702, 21)\n",
            "Test output\n",
            "(702, 1)\n",
            "Test output transformado\n",
            "(702, 3)\n"
          ]
        }
      ],
      "source": [
        "# CONVERTIR TARGET A CATEGORICAL\n",
        "from sklearn.preprocessing import LabelBinarizer\n",
        "encoder = LabelBinarizer()\n",
        "y_train_transformed = encoder.fit_transform(y_train)\n",
        "y_test_transformed = encoder.fit_transform(y_test)\n",
        "print(\"Entrenamiento salida sin transformar\")\n",
        "print(y_train[:11])\n",
        "print(\"Entrenamiento salida transformada\")\n",
        "print(y_train_transformed[:11])\n",
        "\n",
        "# COMPROBAR DIMENSIONES DE LOS DATOS\n",
        "print(\"Entrenamiento input\")\n",
        "print(X_train.shape)\n",
        "print(\"Entrenamiento output\")\n",
        "print(y_train.shape)\n",
        "print(\"Entrenamiento output transformado\")\n",
        "print(y_train_transformed.shape)\n",
        "print(\"Test input\")\n",
        "print(X_test.shape)\n",
        "print(\"Test output\")\n",
        "print(y_test.shape)\n",
        "print(\"Test output transformado\")\n",
        "print(y_test_transformed.shape)"
      ]
    },
    {
      "cell_type": "code",
      "execution_count": 321,
      "metadata": {
        "id": "49R0yOezaw5E"
      },
      "outputs": [],
      "source": [
        "#Extraer del conjunto de train el conjunto de validación\n",
        "from sklearn.model_selection import train_test_split\n",
        "X_train2, X_Validation, y_train_transformed2, y_Validation = train_test_split(X_train,y_train_transformed,stratify=y_train_transformed,test_size=0.2) "
      ]
    },
    {
      "cell_type": "markdown",
      "metadata": {
        "id": "zjKgCknt1j1c"
      },
      "source": [
        "# Criterios de parada"
      ]
    },
    {
      "cell_type": "code",
      "execution_count": 322,
      "metadata": {
        "id": "ApyYTkGzU_zj"
      },
      "outputs": [],
      "source": [
        "#OPCIÓN 1\n",
        "from tensorflow.keras.callbacks import EarlyStopping\n",
        "early_stopping = EarlyStopping(\n",
        "    monitor='val_loss',\n",
        "    patience=1)\n",
        "    #min_delta=1, \n",
        "    #mode='min')\n",
        "callbacks_list=[early_stopping]"
      ]
    },
    {
      "cell_type": "code",
      "execution_count": 323,
      "metadata": {
        "id": "9Sw8UZACUPVy"
      },
      "outputs": [],
      "source": [
        "#OPCIÓN 2\n",
        "from keras.callbacks import ModelCheckpoint\n",
        "checkpoint = ModelCheckpoint(\n",
        "    path+'bestmodel', monitor='val_loss',\n",
        "    #mode='min',\n",
        "    verbose=1,\n",
        "    save_best_only=True)\n",
        "callbacks_list = [checkpoint]"
      ]
    },
    {
      "cell_type": "code",
      "execution_count": 324,
      "metadata": {
        "id": "L-HAQ9wMXnSI"
      },
      "outputs": [],
      "source": [
        "# ASIGNAR PESOS Y DEFINIR UN DICCIONARIO\n",
        "peso_claseN = 1.\n",
        "peso_claseS = 5.  # Trata cada instancia de clase 1 como 5 instancias de clase 0\n",
        "peso_claseP = 7. # Trata cada instancia de clase 2 como 10 instancias de clase 0\n",
        "class_weight = { # Diccionaro de pesos\n",
        "    0: peso_claseN,\n",
        "    1: peso_claseS,\n",
        "    2: peso_claseP\n",
        "}"
      ]
    },
    {
      "cell_type": "code",
      "execution_count": 325,
      "metadata": {
        "id": "ivSkvmsWe1TS"
      },
      "outputs": [
        {
          "name": "stdout",
          "output_type": "stream",
          "text": [
            "[0.42839952 2.3973064  4.02259887]\n",
            "{0: 1, 1: 4, 2: 12}\n"
          ]
        }
      ],
      "source": [
        "#ASIGNAR PESOS DE MANERA AUTOMÁTICA, \n",
        "from sklearn.utils import class_weight\n",
        "\n",
        "pesos = class_weight.compute_class_weight( # total/numclasses*repeticiones de la clase\n",
        "    'balanced',\n",
        "    classes = np.unique(y_train),\n",
        "    y       = y_train.NSP.to_numpy()\n",
        ")\n",
        "print(pesos)\n",
        "\n",
        "#CREACIÓN DEL DICCIONARIO\n",
        "class_weight = {\n",
        "    0: int(pesos[0]+1),\n",
        "    1: int(pesos[1]*2),\n",
        "    2: int(pesos[2]*3)\n",
        "}\n",
        "\n",
        "print(class_weight)"
      ]
    },
    {
      "cell_type": "markdown",
      "metadata": {
        "id": "kAbj70Zquf40"
      },
      "source": [
        "# Definir el modelo de red neuronal"
      ]
    },
    {
      "cell_type": "code",
      "execution_count": 326,
      "metadata": {
        "id": "_w0ZFatmupcu"
      },
      "outputs": [
        {
          "name": "stdout",
          "output_type": "stream",
          "text": [
            "3\n",
            "1.0    1108\n",
            "2.0     198\n",
            "3.0     118\n",
            "Name: NSP, dtype: int64\n",
            "1.0    547\n",
            "2.0     97\n",
            "3.0     58\n",
            "Name: NSP, dtype: int64\n"
          ]
        }
      ],
      "source": [
        "# Definir forma de la entrada de la red\n",
        "input_shape=(X_train.shape [1],) # utilizamos los datos de entrenamiento para definir la tupla\n",
        "# Definir la salida de la red, la ultima capa debera tener una neurona por cada clase\n",
        "num_clases =y_test_transformed.shape [1] # definimos el numero de clases que queremos que tenga la salida\n",
        "# imprimir información de la red\n",
        "print(num_clases)\n",
        "print(train_set.NSP.value_counts())\n",
        "print(test_set.NSP.value_counts())"
      ]
    },
    {
      "cell_type": "code",
      "execution_count": 327,
      "metadata": {
        "id": "VXE75vCgoSHV"
      },
      "outputs": [
        {
          "name": "stdout",
          "output_type": "stream",
          "text": [
            "Model: \"sequential_20\"\n",
            "_________________________________________________________________\n",
            " Layer (type)                Output Shape              Param #   \n",
            "=================================================================\n",
            " dense_40 (Dense)            (None, 50)                1100      \n",
            "                                                                 \n",
            " dense_41 (Dense)            (None, 3)                 153       \n",
            "                                                                 \n",
            "=================================================================\n",
            "Total params: 1,253\n",
            "Trainable params: 1,253\n",
            "Non-trainable params: 0\n",
            "_________________________________________________________________\n"
          ]
        }
      ],
      "source": [
        "#DEFINICIÓN DEL MODELO\n",
        "model = Sequential()\n",
        "# Capa de entrada del modelo\n",
        "model.add(Dense(50, input_shape=input_shape, activation='sigmoid'))\n",
        "# Capas intermedias del modelo\n",
        "\n",
        "# Capa de salida del modelo\n",
        "model.add(Dense(num_clases, activation='softmax'))\n",
        "model.summary()"
      ]
    },
    {
      "cell_type": "code",
      "execution_count": 328,
      "metadata": {},
      "outputs": [],
      "source": [
        "#Cambiar"
      ]
    },
    {
      "cell_type": "code",
      "execution_count": 329,
      "metadata": {
        "id": "sga7Jo0iB824"
      },
      "outputs": [],
      "source": [
        "# Hiperparametros\n",
        "lr = 0.95 # razon de aprendizaje\n",
        "momento=0\n",
        "epochs = 200 # numero de ciclos que se quiere realizar en el entrenamiento\n",
        "batch_size=32\n",
        "optimizador=tf.keras.optimizers.SGD(learning_rate=lr, momentum=momento)\n",
        "#lr=1e-3\n",
        "#optimizador=tf.keras.optimizers.Adam(learning_rate=1e-3, ),\n",
        "#rho=0.9\n",
        "#lr=0.001\n",
        "#optimizador=tf.keras.optimizers.RMSprop(learning_rate=0.001, rho=0.9), "
      ]
    },
    {
      "cell_type": "code",
      "execution_count": 330,
      "metadata": {
        "id": "7jhKE3geXOLu"
      },
      "outputs": [],
      "source": [
        "#COMPILACIÓN DEL MODELO\n",
        "from keras.losses import binary_crossentropy\n",
        "model.compile( \n",
        "    optimizer=tf.keras.optimizers.SGD(learning_rate=lr, momentum=momento),\n",
        "    #optimizer=tf.keras.optimizers.Adam(learning_rate=1e-3, ),\n",
        "    #optimizer=tf.keras.optimizers.RMSprop(learning_rate=0.001, rho=0.9),\n",
        "    loss='mean_squared_error',\n",
        "    #loss='binary_crossentropy',\n",
        "    metrics=['accuracy','mse']\n",
        ")"
      ]
    },
    {
      "cell_type": "code",
      "execution_count": 331,
      "metadata": {},
      "outputs": [],
      "source": [
        "#Cambiar"
      ]
    },
    {
      "cell_type": "code",
      "execution_count": 332,
      "metadata": {
        "id": "Me9IWAq5MXHT"
      },
      "outputs": [
        {
          "name": "stdout",
          "output_type": "stream",
          "text": [
            "Epoch 1/200\n",
            "1139/1139 [==============================] - 2s 1ms/step - loss: 1.1898 - accuracy: 0.1361 - mse: 0.5750 - val_loss: 0.5731 - val_accuracy: 0.1404 - val_mse: 0.5731\n",
            "Epoch 2/200\n",
            "1139/1139 [==============================] - 1s 1ms/step - loss: 1.1858 - accuracy: 0.1387 - mse: 0.5742 - val_loss: 0.5731 - val_accuracy: 0.1404 - val_mse: 0.5731\n"
          ]
        }
      ],
      "source": [
        "#ENTRENAMIENTO DEL MODELO\n",
        "opcion=2\n",
        "\n",
        "if opcion==2:\n",
        "  callbacks_list=[early_stopping]\n",
        "\n",
        "historico = model.fit(X_train2, y_train_transformed2, \n",
        "                      epochs=epochs, batch_size=1, verbose=1, validation_data=(X_Validation,y_Validation), shuffle=False,\n",
        "                      callbacks=callbacks_list,\n",
        "                      class_weight=class_weight)"
      ]
    },
    {
      "cell_type": "markdown",
      "metadata": {
        "id": "2MeciwQ-3Qqh"
      },
      "source": [
        "# Análisis"
      ]
    },
    {
      "cell_type": "code",
      "execution_count": 333,
      "metadata": {
        "id": "_kuzSqq9jeBp"
      },
      "outputs": [],
      "source": [
        "#GUARDAR RESULTADOS Y MODELOS EN FICHEROS\n",
        "#CUANDO SE UTILIZA CHECKPOINT, YA ESTÁ GUARDADO EL MODELO\n",
        "#CUANDO SE UTILIZA EARLY_STOPING, REALMENTE EL MODELO YA ESTÁ EN \"MODEL\", PERO SI SE QUIERE GUARDAR EN FICHERO SE DEBE UTILIZAR MODEL.SAVE\n",
        "\n",
        "np.savetxt(path+'historicoTrainLoss.txt',historico.history['loss'])\n",
        "np.savetxt(path+'historicoValLoss.txt',historico.history['val_loss'])\n",
        "np.savetxt(path+'historicoTrainAcc.txt',historico.history['accuracy'])\n",
        "np.savetxt(path+'historicoValAcc.txt',historico.history['val_accuracy'])\n",
        "\n",
        "if opcion==1:\n",
        "    model.save(path+'model_early_stoping')"
      ]
    },
    {
      "cell_type": "code",
      "execution_count": 334,
      "metadata": {
        "id": "JAnDMwdMiP-O"
      },
      "outputs": [
        {
          "name": "stdout",
          "output_type": "stream",
          "text": [
            "1.1858325004577637\n",
            "0.573099672794342\n",
            "0.13871817290782928\n",
            "0.14035087823867798\n"
          ]
        }
      ],
      "source": [
        "#LOSS Y ACCURACY DE TRAIN Y VALIDACIÓN CUANDO SE UTILIZA EARLY_STOPPING\n",
        "final_epoch = len(historico.history['loss'])\n",
        "print(historico.history['loss'][final_epoch-1])\n",
        "print(historico.history['val_loss'][final_epoch-1])\n",
        "print(historico.history['accuracy'][final_epoch-1])\n",
        "print(historico.history['val_accuracy'][final_epoch-1])"
      ]
    },
    {
      "cell_type": "code",
      "execution_count": 335,
      "metadata": {
        "id": "4N4cPdRcZuVG"
      },
      "outputs": [
        {
          "name": "stdout",
          "output_type": "stream",
          "text": [
            "0\n",
            "1.1858325004577637\n",
            "0.573099672794342\n",
            "0.13871817290782928\n",
            "0.14035087823867798\n"
          ]
        }
      ],
      "source": [
        "#MEJOR ÉPOCA, LOSS Y ACCURACY DE TRAIN Y VALIDACIÓN CUANDO SE UTILIZA CHECKPOINT\n",
        "epochs_stop = np.where(historico.history['val_loss'] == np.min(historico.history['val_loss']))\n",
        "final_epoch = epochs_stop[0][0]\n",
        "print(final_epoch)\n",
        "print(historico.history['loss'][final_epoch-1])\n",
        "print(historico.history['val_loss'][final_epoch-1])\n",
        "print(historico.history['accuracy'][final_epoch-1])\n",
        "print(historico.history['val_accuracy'][final_epoch-1])"
      ]
    },
    {
      "cell_type": "code",
      "execution_count": 336,
      "metadata": {
        "id": "BxDjdKQWXEQC"
      },
      "outputs": [
        {
          "data": {
            "image/png": "[encoded data removed]",
            "text/plain": [
              "<Figure size 640x480 with 1 Axes>"
            ]
          },
          "metadata": {},
          "output_type": "display_data"
        },
        {
          "data": {
            "image/png": "[encoded data removed]",
            "text/plain": [
              "<Figure size 640x480 with 1 Axes>"
            ]
          },
          "metadata": {},
          "output_type": "display_data"
        }
      ],
      "source": [
        "## plots de evolución de loss y accuracy\n",
        "from matplotlib import pyplot as plt\n",
        "plt.plot(historico.history['accuracy'])\n",
        "plt.plot(historico.history['val_accuracy'])\n",
        "plt.title('model accuracy')\n",
        "plt.ylabel('accuracy')\n",
        "plt.xlabel('epoch')\n",
        "plt.legend(['train', 'val'], loc='upper left')\n",
        "plt.show()\n",
        "\n",
        "plt.plot(historico.history['loss'])\n",
        "plt.plot(historico.history['val_loss'])\n",
        "plt.title('model loss')\n",
        "plt.ylabel('loss')\n",
        "plt.xlabel('epoch')\n",
        "plt.legend(['train', 'val'], loc='upper left')\n",
        "plt.show()"
      ]
    },
    {
      "cell_type": "markdown",
      "metadata": {
        "id": "EQ7zbK7G3U4V"
      },
      "source": [
        "# Modelo final\n",
        "Entrenamiento final sin validation"
      ]
    },
    {
      "cell_type": "code",
      "execution_count": 337,
      "metadata": {},
      "outputs": [],
      "source": [
        "#Cambiar"
      ]
    },
    {
      "cell_type": "code",
      "execution_count": 338,
      "metadata": {
        "id": "NWDm5Wj0jAov"
      },
      "outputs": [
        {
          "name": "stdout",
          "output_type": "stream",
          "text": [
            "Epoch 1/5\n",
            "1424/1424 [==============================] - 2s 1ms/step - loss: 0.5329 - accuracy: 0.5000 - mse: 0.2202 - binary_crossentropy: 0.6759\n",
            "Epoch 2/5\n",
            "1424/1424 [==============================] - 2s 1ms/step - loss: 0.3473 - accuracy: 0.7395 - mse: 0.1276 - binary_crossentropy: 0.5215\n",
            "Epoch 3/5\n",
            "1424/1424 [==============================] - 2s 1ms/step - loss: 0.3023 - accuracy: 0.7739 - mse: 0.1092 - binary_crossentropy: 0.4910\n",
            "Epoch 4/5\n",
            "1424/1424 [==============================] - 2s 1ms/step - loss: 0.2793 - accuracy: 0.7886 - mse: 0.1009 - binary_crossentropy: 0.4795\n",
            "Epoch 5/5\n",
            "1424/1424 [==============================] - 2s 1ms/step - loss: 0.2642 - accuracy: 0.7985 - mse: 0.0958 - binary_crossentropy: 0.4725\n"
          ]
        }
      ],
      "source": [
        "# DEFINIR Y ENTRENAR EL MODELO DEFINITIVO, CON LOS MEJORES HIPERPARÁMETROS\n",
        "# ejemplo:\n",
        "num_neuronas = 50\n",
        "lr           = 0.1\n",
        "momento      = 0\n",
        "epochs       = 5\n",
        "class_weight = {\n",
        "    0: 1.,\n",
        "    1: 5.,\n",
        "    2: 10.\n",
        "}\n",
        "\n",
        "#definir modelo\n",
        "final_model = Sequential()\n",
        "final_model.add(Dense(num_neuronas, input_shape=input_shape, activation='sigmoid'))\n",
        "final_model.add(Dense(num_clases, activation='softmax'))\n",
        "\n",
        "#COMPILAR\n",
        "final_model.compile( \n",
        "    optimizer=tf.keras.optimizers.SGD(learning_rate=lr, momentum=momento),\n",
        "    #optimizer=tf.keras.optimizers.Adam(learning_rate=1e-3, ),\n",
        "    #optimizer=tf.keras.optimizers.RMSprop(learning_rate=0.001, rho=0.9),\n",
        "    loss='mean_squared_error',\n",
        "    #loss='binary_crossentropy',\n",
        "    metrics=['accuracy','mse', 'binary_crossentropy']\n",
        ")\n",
        "\n",
        "#ENTRENAR\n",
        "historico=final_model.fit(\n",
        "    X_train, y_train_transformed, epochs=epochs, \n",
        "    batch_size=1, verbose=1, validation_split=0, shuffle=False, class_weight=class_weight\n",
        ")"
      ]
    },
    {
      "cell_type": "code",
      "execution_count": 339,
      "metadata": {
        "id": "cm_ObGvVshlp"
      },
      "outputs": [
        {
          "data": {
            "image/png": "[encoded data removed]",
            "text/plain": [
              "<Figure size 640x480 with 1 Axes>"
            ]
          },
          "metadata": {},
          "output_type": "display_data"
        },
        {
          "data": {
            "image/png": "[encoded data removed]",
            "text/plain": [
              "<Figure size 640x480 with 1 Axes>"
            ]
          },
          "metadata": {},
          "output_type": "display_data"
        }
      ],
      "source": [
        "## plots de evolución de loss y accuracy\n",
        "from matplotlib import pyplot as plt\n",
        "plt.plot(historico.history['accuracy'])\n",
        "plt.title('model accuracy')\n",
        "plt.ylabel('accuracy')\n",
        "plt.xlabel('epoch')\n",
        "plt.legend(['train'], loc='upper left')\n",
        "plt.show()\n",
        "\n",
        "plt.plot(historico.history['loss'])\n",
        "plt.title('model loss')\n",
        "plt.ylabel('loss')\n",
        "plt.xlabel('epoch')\n",
        "plt.legend(['train'], loc='upper left')\n",
        "plt.show()"
      ]
    },
    {
      "cell_type": "code",
      "execution_count": 340,
      "metadata": {},
      "outputs": [],
      "source": [
        "#Cambiar"
      ]
    },
    {
      "cell_type": "code",
      "execution_count": 341,
      "metadata": {
        "id": "wSaDTPoKkQzw"
      },
      "outputs": [
        {
          "name": "stdout",
          "output_type": "stream",
          "text": [
            "45/45 [==============================] - 0s 1ms/step - loss: 0.1633 - accuracy: 0.6271 - mse: 0.1633 - binary_crossentropy: 0.5961\n",
            "22/22 [==============================] - 0s 1ms/step - loss: 0.1592 - accuracy: 0.6425 - mse: 0.1592 - binary_crossentropy: 0.5944\n",
            "Train results - Loss: 0.16332869231700897 - Accuracy: 0.6271067261695862 - MSE: 0.16332869231700897 \n",
            "Test results  - Loss: 0.1592470109462738  - Accuracy: 0.6424501538276672 - MSE: 0.1592470109462738 \n"
          ]
        }
      ],
      "source": [
        "# EVALUAR MODELO \n",
        "train_results = final_model.evaluate(X_train, y_train_transformed, verbose=1)\n",
        "test_results = final_model.evaluate(X_test, y_test_transformed, verbose=1)\n",
        "\n",
        "#EL INDICE 0 ES EL LOSS, EL RESTO LAS MÉTRICAS DEFINADAS ARRIBA. EN ESTE CASO 'accuracy':1,'mse':2 \n",
        "print(f'Train results - Loss: {train_results[0]} - Accuracy: {train_results[1]} - MSE: {train_results[2]} ')\n",
        "print(f'Test results  - Loss: {test_results[0]}  - Accuracy: {test_results[1]} - MSE: {test_results[2]} ')"
      ]
    },
    {
      "cell_type": "code",
      "execution_count": 342,
      "metadata": {
        "id": "MO8pRjSRhi87"
      },
      "outputs": [
        {
          "name": "stdout",
          "output_type": "stream",
          "text": [
            "22/22 [==============================] - 0s 953us/step\n",
            "[[0.0939787  0.15844579 0.7475755 ]\n",
            " [0.84961057 0.1411876  0.00920185]\n",
            " [0.67367965 0.29758176 0.02873851]\n",
            " [0.6402007  0.27899265 0.08080675]\n",
            " [0.6048132  0.37816513 0.01702166]]\n",
            "[3. 1. 1. 1. 1.]\n",
            "[[338 148  61]\n",
            " [  3  59  35]\n",
            " [  1   3  54]]\n",
            "Classification Report\n",
            "              precision    recall  f1-score   support\n",
            "\n",
            "         1.0       0.99      0.62      0.76       547\n",
            "         2.0       0.28      0.61      0.38        97\n",
            "         3.0       0.36      0.93      0.52        58\n",
            "\n",
            "    accuracy                           0.64       702\n",
            "   macro avg       0.54      0.72      0.55       702\n",
            "weighted avg       0.84      0.64      0.69       702\n",
            "\n"
          ]
        }
      ],
      "source": [
        "# PREDICCIONES EN BRUTO\n",
        "raw_testPred = final_model.predict(X_test)\n",
        "#prediccion de los 5 primeros patrones de test: 5 vectores con valores reales \n",
        "print(raw_testPred[:5])\n",
        "\n",
        "# PREDICCIONES DE LAS CLASES\n",
        "testPred = np.argmax(raw_testPred, axis=1)\n",
        "#transformar el núm de col en la etiqueta\n",
        "class_testPred = encoder.classes_[testPred]\n",
        "print(class_testPred[:5])\n",
        "\n",
        "#MATRIZ DE CONFUSIÓN Y OTRAS MÉTRICAS COMO RECALL\n",
        "cm=confusion_matrix(y_test, class_testPred)\n",
        "print(cm)\n",
        "print('Classification Report')\n",
        "print(classification_report(y_test, class_testPred))"
      ]
    }
  ],
  "metadata": {
    "colab": {
      "provenance": []
    },
    "kernelspec": {
      "display_name": "Python 3.7.3 ('base')",
      "language": "python",
      "name": "python3"
    },
    "language_info": {
      "codemirror_mode": {
        "name": "ipython",
        "version": 3
      },
      "file_extension": ".py",
      "mimetype": "text/x-python",
      "name": "python",
      "nbconvert_exporter": "python",
      "pygments_lexer": "ipython3",
      "version": "3.7.3"
    },
    "vscode": {
      "interpreter": {
        "hash": "87fc9c49cf410ee593c46834b2ad4961efb759e9895b5c270e0bb02c1e078aca"
      }
    }
  },
  "nbformat": 4,
  "nbformat_minor": 0
}
